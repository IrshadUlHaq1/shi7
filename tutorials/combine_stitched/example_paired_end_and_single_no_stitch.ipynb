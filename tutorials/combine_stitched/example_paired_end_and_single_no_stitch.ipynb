{
 "cells": [
  {
   "cell_type": "code",
   "execution_count": 2,
   "metadata": {},
   "outputs": [],
   "source": [
    "# Run the paired end\n",
    "!shi7 -i ../tests/testfq/GA01NEX/ -o ./data/pe --adaptor Nextera"
   ]
  },
  {
   "cell_type": "code",
   "execution_count": 71,
   "metadata": {},
   "outputs": [],
   "source": [
    "# Run the single end\n",
    "!shi7 -i ../tests/testfq/GA01NEX/ -o ./data/se --adaptor Nextera --flash False"
   ]
  },
  {
   "cell_type": "code",
   "execution_count": 9,
   "metadata": {},
   "outputs": [],
   "source": [
    "# Gather a dictionary of all paired ends\n",
    "def read_fasta(fh):\n",
    "    \"\"\"\n",
    "    :return: tuples of (title, seq)\n",
    "    \"\"\"\n",
    "    title = None\n",
    "    data = None\n",
    "    for line in fh:\n",
    "        if line[0] == \">\":\n",
    "            if title:\n",
    "                yield (title.strip(), data)\n",
    "            title = line[1:]\n",
    "            data = ''\n",
    "        else:\n",
    "            data += line.strip()\n",
    "    if not title:\n",
    "        yield None\n",
    "    yield title.strip(), data"
   ]
  },
  {
   "cell_type": "code",
   "execution_count": 48,
   "metadata": {},
   "outputs": [],
   "source": [
    "output_file = \"data/combined_seqs.all.fna\""
   ]
  },
  {
   "cell_type": "code",
   "execution_count": 52,
   "metadata": {},
   "outputs": [],
   "source": [
    "paired_success = set()\n",
    "\n",
    "with open(\"./data/pe/combined_seqs.fna\", \"r\") as inf:\n",
    "    with open(output_file, \"w\") as outf_fasta:\n",
    "        gen_fasta = read_fasta(inf)\n",
    "        for title, seq in gen_fasta:\n",
    "                # Grab the name of the sequence\n",
    "                paired_success.add(title.split()[0])\n",
    "                outf_fasta.write('>%s\\n%s\\n' % (title, seq))"
   ]
  },
  {
   "cell_type": "code",
   "execution_count": 69,
   "metadata": {},
   "outputs": [],
   "source": [
    "num_not_stitched = 0\n",
    "with open(\"./data/se/combined_seqs.fna\", \"r\") as inf:\n",
    "    with open(output_file, \"a\") as outf_fasta:\n",
    "        gen_fasta = read_fasta(inf)\n",
    "        for title, seq in gen_fasta:\n",
    "            title_check = title.split()[0].replace(\".R1\", \"\").replace(\".R2\", \"\")\n",
    "            if not title_check in paired_success:\n",
    "                num_not_stitched += 1\n",
    "                print(title)\n",
    "                outf_fasta.write('>%s\\n%s\\n' % (title, seq))"
   ]
  },
  {
   "cell_type": "code",
   "execution_count": 73,
   "metadata": {},
   "outputs": [],
   "source": [
    "def combine_stitched_se(output_file, pe_inf, se_inf):\n",
    "    paired_success = set()\n",
    "\n",
    "    with open(pe_inf, \"r\") as inf:\n",
    "        with open(output_file, \"w\") as outf_fasta:\n",
    "            gen_fasta = read_fasta(inf)\n",
    "            for title, seq in gen_fasta:\n",
    "                    # Grab the name of the sequence\n",
    "                    paired_success.add(title.split()[0])\n",
    "                    outf_fasta.write('>%s\\n%s\\n' % (title, seq))\n",
    "    \n",
    "    num_not_stitched = 0\n",
    "    with open(se_inf, \"r\") as inf:\n",
    "        with open(output_file, \"a\") as outf_fasta:\n",
    "            gen_fasta = read_fasta(inf)\n",
    "            for title, seq in gen_fasta:\n",
    "                title_check = title.split()[0].replace(\".R1\", \"\").replace(\".R2\", \"\")\n",
    "                if not title_check in paired_success:\n",
    "                    num_not_stitched += 1\n",
    "                    print(title)\n",
    "                    outf_fasta.write('>%s\\n%s\\n' % (title, seq))\n",
    "    print(\"Number not stitched %d\" % num_not_stitched)"
   ]
  },
  {
   "cell_type": "code",
   "execution_count": 76,
   "metadata": {},
   "outputs": [],
   "source": [
    "se_inf = \"./data/se/combined_seqs.fna\"\n",
    "pe_inf = \"./data/pe/combined_seqs.fna\""
   ]
  },
  {
   "cell_type": "code",
   "execution_count": 77,
   "metadata": {},
   "outputs": [
    {
     "name": "stdout",
     "output_type": "stream",
     "text": [
      "Number not stitched 0\n"
     ]
    }
   ],
   "source": [
    "combine_stitched_se(output_file, pe_inf, se_inf)"
   ]
  },
  {
   "cell_type": "code",
   "execution_count": 72,
   "metadata": {},
   "outputs": [],
   "source": []
  }
 ],
 "metadata": {
  "kernelspec": {
   "display_name": "Python 3",
   "language": "python",
   "name": "python3"
  },
  "language_info": {
   "codemirror_mode": {
    "name": "ipython",
    "version": 3
   },
   "file_extension": ".py",
   "mimetype": "text/x-python",
   "name": "python",
   "nbconvert_exporter": "python",
   "pygments_lexer": "ipython3",
   "version": "3.6.7"
  }
 },
 "nbformat": 4,
 "nbformat_minor": 2
}
